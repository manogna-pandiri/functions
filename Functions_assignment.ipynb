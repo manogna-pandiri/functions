{
  "nbformat": 4,
  "nbformat_minor": 0,
  "metadata": {
    "colab": {
      "provenance": []
    },
    "kernelspec": {
      "name": "python3",
      "display_name": "Python 3"
    },
    "language_info": {
      "name": "python"
    }
  },
  "cells": [
    {
      "cell_type": "markdown",
      "source": [
        "THEORETICAL QUESTIONS"
      ],
      "metadata": {
        "id": "LIk-mUaqikP-"
      }
    },
    {
      "cell_type": "markdown",
      "source": [
        "1. What is the difference between a function and a method in python?\n",
        "ANSWER. A function is a code that is independently defined using the keyword 'def'.  It is not associated with any object. A method is a function that is defined inside a class and it is associated with the object.\n",
        "Example: Function: greet(\"name\") , method: obj.greet(\"name\")"
      ],
      "metadata": {
        "id": "seVFpOuRISHr"
      }
    },
    {
      "cell_type": "markdown",
      "source": [
        "2. Explain the concept of function argumemts and parameters in python.\n",
        "ANSWER. Arguments are the values that are passed to a function  when it is called. While, parameters are the variables that are listed in a function definition  and acts as a placeholder for values.\n",
        "EXAMPLE: Arguments: func(10) , Parameters: def func(x)."
      ],
      "metadata": {
        "id": "--MzZCkXJkFM"
      }
    },
    {
      "cell_type": "markdown",
      "source": [
        "3. What are the different ways to define and call a function in python.\n",
        "ANSWER. In Python, functions can be defined in different ways using the def keyword. You can call a function by its name followed by brackets, like greet(\"Manogna\"). Functions use *args for many input values or **kwargs for many keyword inputs. Lambda is used to write small one-line functions. If a function is written inside a class, it’s called as a method and used with an object. Python also allows creating partial functions using functools.partial to fix some inputs in advance. These features make Python functions very flexible and useful."
      ],
      "metadata": {
        "id": "bBrlbFyWK5uE"
      }
    },
    {
      "cell_type": "markdown",
      "source": [
        "4. What is the purpose of the return statement in python\n",
        "ANSWER. The return statement in Python is used to send back a result from a function to the place where the function was called.\n",
        "EXAMPLE:"
      ],
      "metadata": {
        "id": "YZ7V8KWILT0Y"
      }
    },
    {
      "cell_type": "code",
      "source": [
        "def add(a, b):\n",
        "  return a + b\n",
        "result = add(5, 6)\n",
        "print(result)"
      ],
      "metadata": {
        "colab": {
          "base_uri": "https://localhost:8080/"
        },
        "id": "9fNV7azuLsJM",
        "outputId": "0ca1998b-12e3-4367-f5db-4befe0194e25"
      },
      "execution_count": 2,
      "outputs": [
        {
          "output_type": "stream",
          "name": "stdout",
          "text": [
            "11\n"
          ]
        }
      ]
    },
    {
      "cell_type": "markdown",
      "source": [
        "5. What are iterators in Python and how do they differ from iterables?\n",
        "ANSWER. In python, Iterators are the objects that gives one value at a time , for example, objects created by calling iter() on iterable. While, Iterables are the objects that can be looped over like list, string, tuple, set, dictionary."
      ],
      "metadata": {
        "id": "h4Th97oXL66P"
      }
    },
    {
      "cell_type": "markdown",
      "source": [
        "6. Explain the concept of generators in Python and how they are defined.\n",
        "ANSWER. In python, a generator is type of iterator that yields values one at a time using the keyword 'yield' instead of returning all at same time."
      ],
      "metadata": {
        "id": "mFidVj7uNQmv"
      }
    },
    {
      "cell_type": "code",
      "source": [
        "#example\n",
        "def count_up_to(n):\n",
        "  i = 1\n",
        "  while i <= n:\n",
        "    yield i\n",
        "    i += 1\n",
        "gen = count_up_to(3)\n",
        "print(next(gen))"
      ],
      "metadata": {
        "colab": {
          "base_uri": "https://localhost:8080/"
        },
        "id": "zC3otpvUN01i",
        "outputId": "2dca0efb-2f58-493e-985e-a909dff3602d"
      },
      "execution_count": 4,
      "outputs": [
        {
          "output_type": "stream",
          "name": "stdout",
          "text": [
            "1\n"
          ]
        }
      ]
    },
    {
      "cell_type": "code",
      "source": [
        "print(next(gen))"
      ],
      "metadata": {
        "colab": {
          "base_uri": "https://localhost:8080/"
        },
        "id": "7onhlRq6OOmz",
        "outputId": "540fa912-5fe5-47c9-8bc9-1d90c0df64aa"
      },
      "execution_count": 5,
      "outputs": [
        {
          "output_type": "stream",
          "name": "stdout",
          "text": [
            "2\n"
          ]
        }
      ]
    },
    {
      "cell_type": "code",
      "source": [
        "print(next(gen))"
      ],
      "metadata": {
        "colab": {
          "base_uri": "https://localhost:8080/"
        },
        "id": "JlRTKpn0OQjf",
        "outputId": "c41477f9-8e76-47e2-cada-ebca9b0caf17"
      },
      "execution_count": 6,
      "outputs": [
        {
          "output_type": "stream",
          "name": "stdout",
          "text": [
            "3\n"
          ]
        }
      ]
    },
    {
      "cell_type": "markdown",
      "source": [
        "7. What are the advantages of using generators over regular functions?\n",
        "ANSWER. In python, generators offer several advantages. They are memory efficient as they yield values one at a time. They generate each value only when its needed, which improves the performance and they also help to write code simpler and cleaner.\n",
        "EXAMPLE: A generator using yield returns one value at a time using next()."
      ],
      "metadata": {
        "id": "svG0OcLvOS92"
      }
    },
    {
      "cell_type": "markdown",
      "source": [
        "8. What is a lambda function in Python and when is it typically used?\n",
        "ANSWER. A lambda function in python is an anonymous function. It is defined using lambda keyword. Lambda functions are typically used when a short function is needed."
      ],
      "metadata": {
        "id": "G3l4kFI3PcwH"
      }
    },
    {
      "cell_type": "code",
      "source": [
        "#example\n",
        "double = lambda x : x * 2\n",
        "double(5)"
      ],
      "metadata": {
        "colab": {
          "base_uri": "https://localhost:8080/"
        },
        "id": "tlTSRT-7QW9R",
        "outputId": "801567a6-2f50-4f90-f392-a46b8be4f9b2"
      },
      "execution_count": 7,
      "outputs": [
        {
          "output_type": "execute_result",
          "data": {
            "text/plain": [
              "10"
            ]
          },
          "metadata": {},
          "execution_count": 7
        }
      ]
    },
    {
      "cell_type": "markdown",
      "source": [
        "9. Explain the purpose and usage of the `map()` function in Python.\n",
        "ANSWER. Map() function is used to apply a given function each item in an iterable (like a tuple or a list) and return a new object which is an iterator.\n",
        "It is used to modify data."
      ],
      "metadata": {
        "id": "vI-GL6CoQjlG"
      }
    },
    {
      "cell_type": "code",
      "source": [
        "#example\n",
        "numbers = [1, 2, 3, 4, 5]\n",
        "squared = map(lambda x: x**2, numbers)\n",
        "print(list(squared))"
      ],
      "metadata": {
        "colab": {
          "base_uri": "https://localhost:8080/"
        },
        "id": "7ILizGnFRCkm",
        "outputId": "c948ebd0-cfd1-42df-d3da-e6fd3dea124d"
      },
      "execution_count": 10,
      "outputs": [
        {
          "output_type": "stream",
          "name": "stdout",
          "text": [
            "[1, 4, 9, 16, 25]\n"
          ]
        }
      ]
    },
    {
      "cell_type": "markdown",
      "source": [
        "10. What is the difference between `map()`, `reduce()`, and `filter()` functions in Python?\n",
        "ANSWER. Map function applies a function to each item ,filter function filters items based on condition, and reduce function reduces all the items to a single value."
      ],
      "metadata": {
        "id": "53lxiwT3RTJO"
      }
    },
    {
      "cell_type": "code",
      "source": [
        "#example for map\n",
        "from functools import reduce\n",
        "numbers = [1, 2, 7, 4, 6]\n",
        "squared = map(lambda x: x*2, numbers)\n",
        "print(list(squared))"
      ],
      "metadata": {
        "colab": {
          "base_uri": "https://localhost:8080/"
        },
        "id": "xgeBHYRgRwgY",
        "outputId": "ef81ded7-f698-49bf-a15d-fc0b345e512b"
      },
      "execution_count": 12,
      "outputs": [
        {
          "output_type": "stream",
          "name": "stdout",
          "text": [
            "[2, 4, 14, 8, 12]\n"
          ]
        }
      ]
    },
    {
      "cell_type": "code",
      "source": [
        "#example for filter\n",
        "numbers = [1, 2, 7, 4, 6]\n",
        "even_numbers = filter(lambda x: x % 2 == 0, numbers)\n",
        "print(list(even_numbers))"
      ],
      "metadata": {
        "colab": {
          "base_uri": "https://localhost:8080/"
        },
        "id": "l6GK2rwNR4zK",
        "outputId": "0ec95a19-43e7-40e0-d763-4ca404cc9655"
      },
      "execution_count": 13,
      "outputs": [
        {
          "output_type": "stream",
          "name": "stdout",
          "text": [
            "[2, 4, 6]\n"
          ]
        }
      ]
    },
    {
      "cell_type": "code",
      "source": [
        "#example for reduce\n",
        "numbers = [1, 2, 7, 4, 6]\n",
        "sum = reduce(lambda x, y: x + y, numbers)\n",
        "print(sum)"
      ],
      "metadata": {
        "colab": {
          "base_uri": "https://localhost:8080/"
        },
        "id": "iS8yIWPWSAjF",
        "outputId": "acce7bde-d9a7-4b28-ba8e-d1f526a41110"
      },
      "execution_count": 14,
      "outputs": [
        {
          "output_type": "stream",
          "name": "stdout",
          "text": [
            "20\n"
          ]
        }
      ]
    },
    {
      "cell_type": "markdown",
      "source": [
        "PRACTICAL QUESTION"
      ],
      "metadata": {
        "id": "X4GNHhkwX-qX"
      }
    },
    {
      "cell_type": "code",
      "source": [
        "# 1. Write a Python function that takes a list of numbers as input and returns the sum of all even numbers in the list.\n",
        "\n",
        "def sum_even_numbers(numbers):\n",
        "  sum = 0\n",
        "  for num in numbers:\n",
        "    if num % 2 == 0:\n",
        "      sum += num\n",
        "  return sum\n",
        "numbers = [1, 2, 3, 4, 5, 6, 7, 8, 9, 10]\n",
        "result = sum_even_numbers(numbers)\n",
        "print(result)"
      ],
      "metadata": {
        "colab": {
          "base_uri": "https://localhost:8080/"
        },
        "id": "knuQnoqrYA6R",
        "outputId": "3190fa34-5695-435b-8684-2ff06c7b7e35"
      },
      "execution_count": 17,
      "outputs": [
        {
          "output_type": "stream",
          "name": "stdout",
          "text": [
            "30\n"
          ]
        }
      ]
    },
    {
      "cell_type": "code",
      "source": [
        "# 2. Create a Python function that accepts a string and returns the reverse of that string.\n",
        "\n",
        "def reverse_string(string):\n",
        "  return string[::-1]\n",
        "string = \"Manogna\"\n",
        "result = reverse_string(string)\n",
        "print(result)"
      ],
      "metadata": {
        "colab": {
          "base_uri": "https://localhost:8080/"
        },
        "id": "iUogdtgXYZOv",
        "outputId": "64b871b6-0561-4e51-9dbb-9fb2d463fd09"
      },
      "execution_count": 18,
      "outputs": [
        {
          "output_type": "stream",
          "name": "stdout",
          "text": [
            "angonaM\n"
          ]
        }
      ]
    },
    {
      "cell_type": "code",
      "source": [
        "# 3.  Implement a Python function that takes a list of integers and returns a new list containing the squares of each number.\n",
        "\n",
        "def square_numbers(numbers):\n",
        "  squares = []\n",
        "  for num in numbers:\n",
        "    squares.append(num**2)\n",
        "  return squares\n",
        "numbers = [1, 2, 3, 4, 5]\n",
        "result = square_numbers(numbers)\n",
        "print(result)"
      ],
      "metadata": {
        "colab": {
          "base_uri": "https://localhost:8080/"
        },
        "id": "HoAwfD9qYx8E",
        "outputId": "6d7aebed-1892-4235-bac6-4ba2d728d0d1"
      },
      "execution_count": 19,
      "outputs": [
        {
          "output_type": "stream",
          "name": "stdout",
          "text": [
            "[1, 4, 9, 16, 25]\n"
          ]
        }
      ]
    },
    {
      "cell_type": "code",
      "source": [
        "# 4. Write a Python function that checks if a given number is prime or not from 1 to 200.\n",
        "\n",
        "def is_prime(n):\n",
        "    if n < 2 or n > 200:\n",
        "        return False\n",
        "    for i in range(2, int(n ** 0.5) + 1):\n",
        "        if n % i == 0:\n",
        "            return False\n",
        "    return True\n",
        "print(is_prime(2))\n",
        "print(is_prime(6))\n",
        "print(is_prime(13))\n",
        "print(is_prime(21))\n",
        "print(is_prime(100))"
      ],
      "metadata": {
        "colab": {
          "base_uri": "https://localhost:8080/"
        },
        "id": "-c7DxauOZBeW",
        "outputId": "ead6939f-aebe-4d74-e044-91f1a6040668"
      },
      "execution_count": 24,
      "outputs": [
        {
          "output_type": "stream",
          "name": "stdout",
          "text": [
            "True\n",
            "False\n",
            "True\n",
            "False\n",
            "False\n"
          ]
        }
      ]
    },
    {
      "cell_type": "code",
      "source": [
        "# 5. Create an iterator class in Python that generates the Fibonacci sequence up to a specified number of terms.\n",
        "\n",
        "class Fibonacci:\n",
        "    def _init_(self, n):\n",
        "        self.n = n\n",
        "        self.count = 0\n",
        "        self.a = 0\n",
        "        self.b = 1\n",
        "\n",
        "    def _iter_(self):\n",
        "        return self\n",
        "\n",
        "    def _next_(self):\n",
        "        if self.count >= self.n:\n",
        "            raise StopIteration\n",
        "        if self.count == 0:\n",
        "            self.count += 1\n",
        "            return self.a\n",
        "        elif self.count == 1:\n",
        "            self.count += 1\n",
        "            return self.b\n",
        "        else:\n",
        "            next_number = self.a + self.b\n",
        "            self.a = self.b\n",
        "            self.b = next_number\n",
        "            self.count += 1\n",
        "            return next_number"
      ],
      "metadata": {
        "id": "84K3TL5laSDn"
      },
      "execution_count": 26,
      "outputs": []
    },
    {
      "cell_type": "code",
      "source": [
        "# 6. Write a generator function in Python that yields the powers of 2 up to a given exponent.\n",
        "\n",
        "def powers_of_2(n):\n",
        "    for i in range(n + 1):\n",
        "        yield 2 ** i\n",
        "for power in powers_of_2(5):\n",
        "    print(power)"
      ],
      "metadata": {
        "colab": {
          "base_uri": "https://localhost:8080/"
        },
        "id": "r4W82JA9dnOX",
        "outputId": "53171825-f42b-48ab-b01f-c05f54a4e1ef"
      },
      "execution_count": 30,
      "outputs": [
        {
          "output_type": "stream",
          "name": "stdout",
          "text": [
            "1\n",
            "2\n",
            "4\n",
            "8\n",
            "16\n",
            "32\n"
          ]
        }
      ]
    },
    {
      "cell_type": "code",
      "source": [
        "# 7. Implement a generator function that reads a file line by line and yields each line as a string.\n",
        "\n",
        "def read_lines(file_path):\n",
        "    with open(file_path, 'r') as file:\n",
        "        for line in file:\n",
        "            yield line.strip()\n",
        ""
      ],
      "metadata": {
        "id": "OARlVL5hd7jq"
      },
      "execution_count": 31,
      "outputs": []
    },
    {
      "cell_type": "code",
      "source": [
        "# 8. Use a lambda function in Python to sort a list of tuples based on the second element of each tuple.\n",
        "\n",
        "tuples = [(1, 3), (2, 1), (3, 2), (4, 4)]\n",
        "sorted_tuples = sorted(tuples, key=lambda x: x[1])\n",
        "print(sorted_tuples)"
      ],
      "metadata": {
        "colab": {
          "base_uri": "https://localhost:8080/"
        },
        "id": "s_YvrLtpfExh",
        "outputId": "349e8c5a-37ff-4fc7-85bf-7eaaf0961da1"
      },
      "execution_count": 32,
      "outputs": [
        {
          "output_type": "stream",
          "name": "stdout",
          "text": [
            "[(2, 1), (3, 2), (1, 3), (4, 4)]\n"
          ]
        }
      ]
    },
    {
      "cell_type": "code",
      "source": [
        "# 9. Write a Python program that uses `map()` to convert a list of temperatures from Celsius to Fahrenheit.\n",
        "\n",
        "celsius_temps = [0, 10, 20, 30, 40]\n",
        "fahrenheit_temps = list(map(lambda x: (x * 9/5) + 32, celsius_temps))\n",
        "print(fahrenheit_temps)"
      ],
      "metadata": {
        "colab": {
          "base_uri": "https://localhost:8080/"
        },
        "id": "-vEAJgfTfnJ9",
        "outputId": "844f8093-ab40-4009-b1b8-da18318bf6ef"
      },
      "execution_count": 34,
      "outputs": [
        {
          "output_type": "stream",
          "name": "stdout",
          "text": [
            "[32.0, 50.0, 68.0, 86.0, 104.0]\n"
          ]
        }
      ]
    },
    {
      "cell_type": "code",
      "source": [
        "# 10. Create a Python program that uses `filter()` to remove all the vowels from a given string.\n",
        "\n",
        "def remove_vowels(input_str):\n",
        "    vowels = 'aeiouAEIOU'\n",
        "    return ''.join(filter(lambda char: char not in vowels, input_str))\n",
        "\n",
        "text = \"Hello World\"\n",
        "result = remove_vowels(text)\n",
        "print(result)"
      ],
      "metadata": {
        "colab": {
          "base_uri": "https://localhost:8080/"
        },
        "id": "cGrlZB2dfzGy",
        "outputId": "99ba2865-de25-4887-cdc6-8d2a92264ab0"
      },
      "execution_count": 35,
      "outputs": [
        {
          "output_type": "stream",
          "name": "stdout",
          "text": [
            "Hll Wrld\n"
          ]
        }
      ]
    },
    {
      "cell_type": "code",
      "source": [
        "# 11. Imagine an accounting routine used in a book shop. It works on a list with sublists, which look like this:\n",
        "'''\n",
        "Write a Python program, which returns a list with 2-tuples. Each tuple consists of the order number and theproduct of the price per item and the quantity.\n",
        "The product should be increased by 10,- € if the value of the\n",
        "order is smaller than 100,00 €.\n",
        "Write a Python program using lambda and map.\n",
        "'''"
      ],
      "metadata": {
        "id": "NwCTcyWThFfG"
      },
      "execution_count": null,
      "outputs": []
    },
    {
      "cell_type": "code",
      "source": [
        "orders = [\n",
        "    [34587, \"Learning Python, Mark Lutz\", 4, 40.95],\n",
        "    [98762, \"Programming Python, Mark Lutz\", 5, 56.80],\n",
        "    [77226, \"Head First Python, Paul Barry\", 3, 32.95],\n",
        "    [88112, \"Einführung in Python3, Bernd Klein\", 3, 24.99]\n",
        "]\n",
        "# Use lambda and map to calculate order totals\n",
        "result = list(map(lambda order: (order[0], order[2] * order[3] if order[2] * order[3] >= 100 else order[2] * order[3] + 10),orders))\n",
        "print(result)"
      ],
      "metadata": {
        "colab": {
          "base_uri": "https://localhost:8080/"
        },
        "id": "F_3EKhobh3Qp",
        "outputId": "aec03278-2864-48b1-8a86-85a305db63b7"
      },
      "execution_count": 36,
      "outputs": [
        {
          "output_type": "stream",
          "name": "stdout",
          "text": [
            "[(34587, 163.8), (98762, 284.0), (77226, 108.85000000000001), (88112, 84.97)]\n"
          ]
        }
      ]
    }
  ]
}